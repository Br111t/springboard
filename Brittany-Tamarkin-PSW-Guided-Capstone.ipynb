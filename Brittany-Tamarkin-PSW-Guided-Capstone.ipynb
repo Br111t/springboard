{
 "cells": [
  {
   "cell_type": "markdown",
   "metadata": {},
   "source": [
    "### Problem statement (Hypothesis Formation)\n",
    "##### What opportunities exist for Big Mountain Resort to increase revenue by 2M and cut cost by 1M by the end of Q1? \n",
    "_______________________________________________________________________________________________________________________________\n",
    "<h2><span style=\"color:powderblue\">1</span></h2>\n",
    "### Context\n",
    "\n",
    "<h6>Big Mountain Resort is a beautiful restortthat can accommodate skiers and riders of all levels and abilities, located in Montana. Every year about 350,000 people ski or snowboard at the resort. In order to increase the distribution of visitors Big Mountain bought a chair lift, an addition to the 11 lifts, 2 T-bars and magic carpet on the resort. The additional chair increased their operating cost by <span>&#36;</span>1.54 M</h6> for the season. The business wants some guidance on how to select a better value for their ticket price.  \n",
    "_____________________________________________________________________________________________________________________ __________\n",
    "<h2><span style=\"color:powderblue\">2</span></h2>\n",
    "### Criteria for Success\n",
    "\n",
    "<h6>Marketing will idenitfy the areas by reviewing the competitions   </h6>\n",
    "_______________________________________________________________________________________________________________________________\n",
    "<h2><span style=\"color:powderblue\">3</span></h2>\n",
    "### Scope of Solution Space\n",
    "    \n",
    "<h6>Marketing will review data(CSV file) from Alesha for 330 different resorts </h6> \n",
    "_______________________________________________________________________________________________________________________________\n",
    "<h2><span style=\"color:powderblue\">4</span></h2>\n",
    "### Constrainsts within Solution Space\n",
    "\n",
    "<h6>There has been data collected from 330 resorts in the US that can be considered </h6> \n",
    "_______________________________________________________________________________________________________________________________\n",
    "<h2><span style=\"color:powderblue\">5</span></h2>\n",
    "### Stakeholders to Provide Key Insight\n",
    "\n",
    "<table style=\"width:100%\">\n",
    "<table align= \"center\">\n",
    "<tr>\n",
    "<th>Stakeholder</th>\n",
    "<th>Department</th>\n",
    "<th>Action Items</th>\n",
    "</tr>\n",
    "\n",
    "<tr>\n",
    "<td>Jimmy Blackburn (Director of Operations)</td>\n",
    "<td>Operations</td>\n",
    "<td>Assembling Corrective Action Teams</td>\n",
    "</tr>\n",
    "\n",
    "<tr>\n",
    "<td>Alesha Eisen (Database Manager)</td>\n",
    "<td>Operations</td>\n",
    "<td>To grant access to resort data (330 resorts) from a CSV file</td>\n",
    "</tr>\n",
    "\n",
    "\n",
    "\n",
    "_______________________________________________________________________________________________________________________________\n",
    "<h2><span style=\"color:powderblue\">6</span></h2>\n",
    "### What key data sources are required\n",
    "\n",
    "    - A single CSV file obtained from the database manager\n"
   ]
  },
  {
   "cell_type": "markdown",
   "metadata": {},
   "source": []
  }
 ],
 "metadata": {
  "kernelspec": {
   "display_name": "Python 3",
   "language": "python",
   "name": "python3"
  },
  "language_info": {
   "codemirror_mode": {
    "name": "ipython",
    "version": 3
   },
   "file_extension": ".py",
   "mimetype": "text/x-python",
   "name": "python",
   "nbconvert_exporter": "python",
   "pygments_lexer": "ipython3",
   "version": "3.8.5"
  }
 },
 "nbformat": 4,
 "nbformat_minor": 4
}
